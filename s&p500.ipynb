{
  "nbformat": 4,
  "nbformat_minor": 0,
  "metadata": {
    "colab": {
      "name": "s&p500.ipynb",
      "version": "0.3.2",
      "provenance": [],
      "collapsed_sections": [],
      "include_colab_link": true
    },
    "kernelspec": {
      "name": "python3",
      "display_name": "Python 3"
    }
  },
  "cells": [
    {
      "cell_type": "markdown",
      "metadata": {
        "id": "view-in-github",
        "colab_type": "text"
      },
      "source": [
        "<a href=\"https://colab.research.google.com/github/PundirShivam/Portfolio/blob/master/s%26p500.ipynb\" target=\"_parent\"><img src=\"https://colab.research.google.com/assets/colab-badge.svg\" alt=\"Open In Colab\"/></a>"
      ]
    },
    {
      "cell_type": "code",
      "metadata": {
        "id": "5wJxy70dqtLj",
        "colab_type": "code",
        "colab": {}
      },
      "source": [
        "import pandas as pd\n",
        "import requests\n",
        "import bs4"
      ],
      "execution_count": 0,
      "outputs": []
    },
    {
      "cell_type": "code",
      "metadata": {
        "id": "71tvgHZJq8bg",
        "colab_type": "code",
        "outputId": "132fb611-9ba6-4920-c4e8-673b1e439d09",
        "colab": {
          "base_uri": "https://localhost:8080/",
          "height": 306
        }
      },
      "source": [
        "df=pd.read_html('https://en.wikipedia.org/wiki/List_of_S%26P_500_companies')[0]\n",
        "df.head()"
      ],
      "execution_count": 0,
      "outputs": [
        {
          "output_type": "execute_result",
          "data": {
            "text/html": [
              "<div>\n",
              "<style scoped>\n",
              "    .dataframe tbody tr th:only-of-type {\n",
              "        vertical-align: middle;\n",
              "    }\n",
              "\n",
              "    .dataframe tbody tr th {\n",
              "        vertical-align: top;\n",
              "    }\n",
              "\n",
              "    .dataframe thead th {\n",
              "        text-align: right;\n",
              "    }\n",
              "</style>\n",
              "<table border=\"1\" class=\"dataframe\">\n",
              "  <thead>\n",
              "    <tr style=\"text-align: right;\">\n",
              "      <th></th>\n",
              "      <th>Symbol</th>\n",
              "      <th>Security</th>\n",
              "      <th>SEC filings</th>\n",
              "      <th>GICS Sector</th>\n",
              "      <th>GICS Sub Industry</th>\n",
              "      <th>Headquarters Location</th>\n",
              "      <th>Date first added</th>\n",
              "      <th>CIK</th>\n",
              "      <th>Founded</th>\n",
              "    </tr>\n",
              "  </thead>\n",
              "  <tbody>\n",
              "    <tr>\n",
              "      <th>0</th>\n",
              "      <td>MMM</td>\n",
              "      <td>3M Company</td>\n",
              "      <td>reports</td>\n",
              "      <td>Industrials</td>\n",
              "      <td>Industrial Conglomerates</td>\n",
              "      <td>St. Paul, Minnesota</td>\n",
              "      <td>NaN</td>\n",
              "      <td>66740</td>\n",
              "      <td>1902</td>\n",
              "    </tr>\n",
              "    <tr>\n",
              "      <th>1</th>\n",
              "      <td>ABT</td>\n",
              "      <td>Abbott Laboratories</td>\n",
              "      <td>reports</td>\n",
              "      <td>Health Care</td>\n",
              "      <td>Health Care Equipment</td>\n",
              "      <td>North Chicago, Illinois</td>\n",
              "      <td>1964-03-31</td>\n",
              "      <td>1800</td>\n",
              "      <td>1888</td>\n",
              "    </tr>\n",
              "    <tr>\n",
              "      <th>2</th>\n",
              "      <td>ABBV</td>\n",
              "      <td>AbbVie Inc.</td>\n",
              "      <td>reports</td>\n",
              "      <td>Health Care</td>\n",
              "      <td>Pharmaceuticals</td>\n",
              "      <td>North Chicago, Illinois</td>\n",
              "      <td>2012-12-31</td>\n",
              "      <td>1551152</td>\n",
              "      <td>2013 (1888)</td>\n",
              "    </tr>\n",
              "    <tr>\n",
              "      <th>3</th>\n",
              "      <td>ABMD</td>\n",
              "      <td>ABIOMED Inc</td>\n",
              "      <td>reports</td>\n",
              "      <td>Health Care</td>\n",
              "      <td>Health Care Equipment</td>\n",
              "      <td>Danvers, Massachusetts</td>\n",
              "      <td>2018-05-31</td>\n",
              "      <td>815094</td>\n",
              "      <td>1981</td>\n",
              "    </tr>\n",
              "    <tr>\n",
              "      <th>4</th>\n",
              "      <td>ACN</td>\n",
              "      <td>Accenture plc</td>\n",
              "      <td>reports</td>\n",
              "      <td>Information Technology</td>\n",
              "      <td>IT Consulting &amp; Other Services</td>\n",
              "      <td>Dublin, Ireland</td>\n",
              "      <td>2011-07-06</td>\n",
              "      <td>1467373</td>\n",
              "      <td>1989</td>\n",
              "    </tr>\n",
              "  </tbody>\n",
              "</table>\n",
              "</div>"
            ],
            "text/plain": [
              "  Symbol             Security SEC filings             GICS Sector  \\\n",
              "0    MMM           3M Company     reports             Industrials   \n",
              "1    ABT  Abbott Laboratories     reports             Health Care   \n",
              "2   ABBV          AbbVie Inc.     reports             Health Care   \n",
              "3   ABMD          ABIOMED Inc     reports             Health Care   \n",
              "4    ACN        Accenture plc     reports  Information Technology   \n",
              "\n",
              "                GICS Sub Industry    Headquarters Location Date first added  \\\n",
              "0        Industrial Conglomerates      St. Paul, Minnesota              NaN   \n",
              "1           Health Care Equipment  North Chicago, Illinois       1964-03-31   \n",
              "2                 Pharmaceuticals  North Chicago, Illinois       2012-12-31   \n",
              "3           Health Care Equipment   Danvers, Massachusetts       2018-05-31   \n",
              "4  IT Consulting & Other Services          Dublin, Ireland       2011-07-06   \n",
              "\n",
              "       CIK      Founded  \n",
              "0    66740         1902  \n",
              "1     1800         1888  \n",
              "2  1551152  2013 (1888)  \n",
              "3   815094         1981  \n",
              "4  1467373         1989  "
            ]
          },
          "metadata": {
            "tags": []
          },
          "execution_count": 51
        }
      ]
    },
    {
      "cell_type": "code",
      "metadata": {
        "id": "9sXpW4CWrBHB",
        "colab_type": "code",
        "colab": {}
      },
      "source": [
        "# getting page\n",
        "response = requests.get('https://en.wikipedia.org/wiki/List_of_S%26P_500_companies')"
      ],
      "execution_count": 0,
      "outputs": []
    },
    {
      "cell_type": "code",
      "metadata": {
        "id": "AJ_fJ5FqrkJY",
        "colab_type": "code",
        "colab": {}
      },
      "source": [
        "# soup of response page\n",
        "soup = BeautifulSoup(response)"
      ],
      "execution_count": 0,
      "outputs": []
    },
    {
      "cell_type": "code",
      "metadata": {
        "id": "XQGPfdUuruMr",
        "colab_type": "code",
        "colab": {}
      },
      "source": [
        "# function to extract href links \n",
        "def get_href_links(soup):\n",
        "  \"\"\"\n",
        "  The functionr returns a dictonary element\n",
        "  with company_name:href link\n",
        "  Input need to be the soup of the S&P500 page\n",
        "  \"\"\"\n",
        "  # finding out the table element\n",
        "  table = soup.find('table')\n",
        "  # creating an list element for storage\n",
        "  company_links={}\n",
        "  # for each tr in table skipping the header column\n",
        "  for tr in table.find_all('tr')[1:]:\n",
        "    company_name= tr.find_all('a')[1].text\n",
        "    href_link = str(tr.find_all('a')[1])\n",
        "    if 'href' in href_link.split()[1]:\n",
        "      href_link = href_link.split()[1].replace('href=\"',\"\").replace('\"','')\n",
        "    else:\n",
        "      href_link = href_link.split()[2].replace('href=\"',\"\").replace('\"','')   \n",
        "    company_links[company_name]=href_link\n",
        "  #print(company_name,href_link)\n",
        "  return company_links\n",
        "#table.find_all('a')"
      ],
      "execution_count": 0,
      "outputs": []
    },
    {
      "cell_type": "code",
      "metadata": {
        "id": "Itr9JuKlsSD_",
        "colab_type": "code",
        "colab": {}
      },
      "source": [
        "href_links = get_href_links(soup)\n",
        "# now adding links in our original df frame\n",
        "df['company_link'] = df['Security'].apply(lambda x:'https://en.wikipedia.org'+href_links[x])"
      ],
      "execution_count": 0,
      "outputs": []
    },
    {
      "cell_type": "code",
      "metadata": {
        "id": "31ygkrHjsVdt",
        "colab_type": "code",
        "outputId": "a32023dc-6ae5-4a8d-a8e1-cd30d1a7b6bd",
        "colab": {
          "base_uri": "https://localhost:8080/",
          "height": 69
        }
      },
      "source": [
        "df['company_link'].head(2)\n",
        "# now we have links added in the data frame itself"
      ],
      "execution_count": 0,
      "outputs": [
        {
          "output_type": "execute_result",
          "data": {
            "text/plain": [
              "0                     https://en.wikipedia.org/wiki/3M\n",
              "1    https://en.wikipedia.org/wiki/Abbott_Laboratories\n",
              "Name: company_link, dtype: object"
            ]
          },
          "metadata": {
            "tags": []
          },
          "execution_count": 145
        }
      ]
    },
    {
      "cell_type": "code",
      "metadata": {
        "id": "IWPnv7ZAsYHm",
        "colab_type": "code",
        "colab": {}
      },
      "source": [
        "# picking up the text once we have the link\n",
        "def company_text(company_link):\n",
        "  \"\"\"\n",
        "  The function scrapes wikipedia page for the \n",
        "  company given the correct wiki pedia link\n",
        "  We are scrapping out only the paragraphs \n",
        "  element\n",
        "  \"\"\"\n",
        "  # imports\n",
        "  #import requests as re\n",
        "  #import bs4 as BeautifulSoup\n",
        "  # getting page response\n",
        "  page_response = requests.get(company_link)\n",
        "  # gettin page text\n",
        "  page_text = page_response.text\n",
        "  # getting soup\n",
        "  soup = bs4.BeautifulSoup(page_text)\n",
        "  # paragraph_elements\n",
        "  p_elements = soup.find_all('p')\n",
        "  # text in paragraphs\n",
        "  text = [ p.text for p in p_elements if p.text not in ['\\n','\\xa0']]\n",
        "  \"\"\"\n",
        "  The intention here is to scrap the basic data and not worry about sophisticated\n",
        "  means of preprocessing. Will handle it during latter part in detailed preprocessing.\n",
        "  \"\"\"\n",
        "  return text"
      ],
      "execution_count": 0,
      "outputs": []
    },
    {
      "cell_type": "code",
      "metadata": {
        "id": "ZBaTG6s1yIRB",
        "colab_type": "code",
        "colab": {}
      },
      "source": [
        "# finally we are ready to get the text saved in our original data frame\n",
        "df['company_text'] = df['company_link'].apply(lambda x:company_text(x))  "
      ],
      "execution_count": 0,
      "outputs": []
    },
    {
      "cell_type": "code",
      "metadata": {
        "id": "l6HoDrsk3MD-",
        "colab_type": "code",
        "colab": {}
      },
      "source": [
        "# lets save this data frame\n",
        "df.to_csv('companies_data.csv') # can use index=False # but in excel it is hard to distingush values from one another"
      ],
      "execution_count": 0,
      "outputs": []
    },
    {
      "cell_type": "code",
      "metadata": {
        "id": "kofLnoI81_z3",
        "colab_type": "code",
        "outputId": "167f5c6b-e5a0-47d1-9a2b-fadd3f2125df",
        "colab": {
          "base_uri": "https://localhost:8080/",
          "height": 203
        }
      },
      "source": [
        "df[df['company_text'].apply(lambda x:len(x))<6].head(1)"
      ],
      "execution_count": 0,
      "outputs": [
        {
          "output_type": "execute_result",
          "data": {
            "text/html": [
              "<div>\n",
              "<style scoped>\n",
              "    .dataframe tbody tr th:only-of-type {\n",
              "        vertical-align: middle;\n",
              "    }\n",
              "\n",
              "    .dataframe tbody tr th {\n",
              "        vertical-align: top;\n",
              "    }\n",
              "\n",
              "    .dataframe thead th {\n",
              "        text-align: right;\n",
              "    }\n",
              "</style>\n",
              "<table border=\"1\" class=\"dataframe\">\n",
              "  <thead>\n",
              "    <tr style=\"text-align: right;\">\n",
              "      <th></th>\n",
              "      <th>Symbol</th>\n",
              "      <th>Security</th>\n",
              "      <th>SEC filings</th>\n",
              "      <th>GICS Sector</th>\n",
              "      <th>GICS Sub Industry</th>\n",
              "      <th>Headquarters Location</th>\n",
              "      <th>Date first added</th>\n",
              "      <th>CIK</th>\n",
              "      <th>Founded</th>\n",
              "      <th>company_link</th>\n",
              "      <th>company_text</th>\n",
              "    </tr>\n",
              "  </thead>\n",
              "  <tbody>\n",
              "    <tr>\n",
              "      <th>34</th>\n",
              "      <td>AMT</td>\n",
              "      <td>American Tower Corp.</td>\n",
              "      <td>reports</td>\n",
              "      <td>Real Estate</td>\n",
              "      <td>Specialized REITs</td>\n",
              "      <td>Boston, Massachusetts</td>\n",
              "      <td>2007-11-19</td>\n",
              "      <td>1053507</td>\n",
              "      <td>1995</td>\n",
              "      <td>https://en.wikipedia.org/wiki/American_Tower_C...</td>\n",
              "      <td>[American Tower Corporation (also referred to ...</td>\n",
              "    </tr>\n",
              "  </tbody>\n",
              "</table>\n",
              "</div>"
            ],
            "text/plain": [
              "   Symbol              Security SEC filings  GICS Sector  GICS Sub Industry  \\\n",
              "34    AMT  American Tower Corp.     reports  Real Estate  Specialized REITs   \n",
              "\n",
              "    Headquarters Location Date first added      CIK Founded  \\\n",
              "34  Boston, Massachusetts       2007-11-19  1053507    1995   \n",
              "\n",
              "                                         company_link  \\\n",
              "34  https://en.wikipedia.org/wiki/American_Tower_C...   \n",
              "\n",
              "                                         company_text  \n",
              "34  [American Tower Corporation (also referred to ...  "
            ]
          },
          "metadata": {
            "tags": []
          },
          "execution_count": 190
        }
      ]
    },
    {
      "cell_type": "code",
      "metadata": {
        "id": "aO4eEw3YsdJH",
        "colab_type": "code",
        "colab": {}
      },
      "source": [
        ""
      ],
      "execution_count": 0,
      "outputs": []
    },
    {
      "cell_type": "code",
      "metadata": {
        "id": "QCbCuRsUufAF",
        "colab_type": "code",
        "colab": {}
      },
      "source": [
        ""
      ],
      "execution_count": 0,
      "outputs": []
    },
    {
      "cell_type": "code",
      "metadata": {
        "id": "NocXbQMHSjsh",
        "colab_type": "code",
        "colab": {}
      },
      "source": [
        ""
      ],
      "execution_count": 0,
      "outputs": []
    },
    {
      "cell_type": "code",
      "metadata": {
        "id": "fe0zZJS6vodz",
        "colab_type": "code",
        "colab": {}
      },
      "source": [
        ""
      ],
      "execution_count": 0,
      "outputs": []
    },
    {
      "cell_type": "code",
      "metadata": {
        "id": "gDIOhUjxxQ6B",
        "colab_type": "code",
        "colab": {}
      },
      "source": [
        ""
      ],
      "execution_count": 0,
      "outputs": []
    },
    {
      "cell_type": "code",
      "metadata": {
        "id": "kkdLsW6CctTu",
        "colab_type": "code",
        "colab": {}
      },
      "source": [
        ""
      ],
      "execution_count": 0,
      "outputs": []
    },
    {
      "cell_type": "code",
      "metadata": {
        "id": "qbAQJNcFd-1y",
        "colab_type": "code",
        "colab": {}
      },
      "source": [
        ""
      ],
      "execution_count": 0,
      "outputs": []
    },
    {
      "cell_type": "code",
      "metadata": {
        "id": "J1SfcN3yedLF",
        "colab_type": "code",
        "colab": {}
      },
      "source": [
        "\n"
      ],
      "execution_count": 0,
      "outputs": []
    },
    {
      "cell_type": "code",
      "metadata": {
        "id": "EDENA9-UoW1p",
        "colab_type": "code",
        "colab": {}
      },
      "source": [
        ""
      ],
      "execution_count": 0,
      "outputs": []
    }
  ]
}