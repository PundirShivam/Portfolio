{
  "nbformat": 4,
  "nbformat_minor": 0,
  "metadata": {
    "colab": {
      "name": "Appendix_A.ipynb",
      "version": "0.3.2",
      "provenance": [],
      "collapsed_sections": [],
      "include_colab_link": true
    },
    "kernelspec": {
      "name": "python3",
      "display_name": "Python 3"
    }
  },
  "cells": [
    {
      "cell_type": "markdown",
      "metadata": {
        "id": "view-in-github",
        "colab_type": "text"
      },
      "source": [
        "<a href=\"https://colab.research.google.com/github/PundirShivam/Portfolio/blob/master/Options%26Derivative_pricing.ipynb\" target=\"_parent\"><img src=\"https://colab.research.google.com/assets/colab-badge.svg\" alt=\"Open In Colab\"/></a>"
      ]
    },
    {
      "cell_type": "code",
      "metadata": {
        "id": "6KdeXF3Mq7Q7",
        "colab_type": "code",
        "colab": {}
      },
      "source": [
        "# Valuing a call-option using BSM Formulae\n",
        "# with no dividents\n",
        "# Here Cases which have closed analytical solutions are considered\n",
        "# More advanced approaches are discussed elsewhere in respective chapters"
      ],
      "execution_count": 0,
      "outputs": []
    },
    {
      "cell_type": "code",
      "metadata": {
        "id": "eOwflR6jrpk5",
        "colab_type": "code",
        "colab": {}
      },
      "source": [
        "def BSM_call_value(So,K,T,r,sigma,q=0):\n",
        "  '''\n",
        "  BSM formaule for valuing European call option\n",
        "  Parameters:\n",
        "  So : index/stock level today\n",
        "  K  : strike price of option\n",
        "  T  : Time to maturity of option (days)\n",
        "  r  : short term interest rate\n",
        "  sigma : std. of returns i.e. volatility of index\n",
        "  q   : q=0 (i.e. divident yield)\n",
        "  Output:\n",
        "  Co = call option value today\n",
        "  '''\n",
        "  from scipy import stats\n",
        "  import math\n",
        "  import numpy as np\n",
        "  d1 = (np.log(So/K) + (r-q+.5*sigma**2)*T)/(sigma*math.sqrt(T))\n",
        "  d2 = d1-sigma*math.sqrt(T)\n",
        "  Co =  So*math.exp(-q*T)*stats.norm.cdf(d1,0,1) - K*math.exp(-r*T)*stats.norm.cdf(d2,0,1)\n",
        "  return Co\n",
        "  "
      ],
      "execution_count": 0,
      "outputs": []
    },
    {
      "cell_type": "code",
      "metadata": {
        "id": "qUjPoM_FwSyf",
        "colab_type": "code",
        "colab": {}
      },
      "source": [
        "# Se^(-q*T) + P = C + Ke^(-rT)\n",
        "# >> P = C + Ke^(-rT) - Se^(-q*T)\n",
        "# Using put call parity we can value put option also\n",
        "\n",
        "def BSM_put_value(So,K,T,r,sigma,q=0):\n",
        "  '''\n",
        "  BSM formaule for valuing European put option\n",
        "  Parameters:\n",
        "  So : index/stock level today\n",
        "  K  : strike price of option\n",
        "  T  : Time to maturity of option (days)\n",
        "  r  : short term interest rate\n",
        "  sigma : std. of returns i.e. volatility of index\n",
        "  q   : q=0 (i.e. divident yield)\n",
        "  Output:\n",
        "  Po = call option value today\n",
        "  '''\n",
        "  import math\n",
        "  Co = BSM_call_value(So,K,T,r,sigma,q)\n",
        "  Po = Co + K*math.exp(-r*T) - So*math.exp(-q*T)\n",
        "  return Po"
      ],
      "execution_count": 0,
      "outputs": []
    },
    {
      "cell_type": "code",
      "metadata": {
        "id": "e4a6B4oht0J8",
        "colab_type": "code",
        "outputId": "eccb8575-74d9-4ac7-aa27-4160ca59e62c",
        "colab": {
          "base_uri": "https://localhost:8080/",
          "height": 52
        }
      },
      "source": [
        "print(\" Value of Europen Call option is ${0:.2f}\".format(BSM_call_value(105,100,1,0.05,.25)))\n",
        "print(\" Value of Europen Put option is ${0:.2f}\".format(BSM_put_value(105,100,1,0.05,.25)))"
      ],
      "execution_count": 0,
      "outputs": [
        {
          "output_type": "stream",
          "text": [
            " Value of Europen Call option is $15.65\n",
            " Value of Europen Put option is $5.78\n"
          ],
          "name": "stdout"
        }
      ]
    },
    {
      "cell_type": "code",
      "metadata": {
        "id": "ERTFzrP4t97o",
        "colab_type": "code",
        "colab": {}
      },
      "source": [
        "## Option Valuation using CRR Cox-Ross-Rubinstein Approach\n",
        "# i.e. binomial option pricing\n",
        "\n",
        "def CRR_value_option(So,K,T,r,sigma,M=1000,call=True):\n",
        "  '''\n",
        "  Binomial option pricing for valuing European Call Option\n",
        "  Parameters:\n",
        "  So : index/stock level today\n",
        "  K  : strike price of option\n",
        "  T  : Time to maturity of option (days)\n",
        "  r  : short term interest rate\n",
        "  sigma : std. of returns i.e. volatility of index\n",
        "        Also, constant volatility factor of diffusion\n",
        "  M : no. of time-steps to be considered till time to maturity\n",
        "      As M increases the CRR_model value approached BSM value\n",
        "  call : True will return value of call option\n",
        "         False will return value of put option\n",
        "  Output:\n",
        "  \n",
        "  Vo = call/put option value today\n",
        "  '''\n",
        "  import math\n",
        "  import numpy as np\n",
        "  \n",
        "  # time parameters\n",
        "  dt = T/ M # length of time interval\n",
        "  df = math.exp(-r*dt) # discount factor per time interval\n",
        "  # this will be used for discounting back cfs backwards from end point\n",
        " \n",
        "  \n",
        "  # binomial paramters\n",
        "  u = math.exp(sigma*math.sqrt(dt)) # up-movement\n",
        "  d = 1/u # down-movement\n",
        "  q = (math.exp(r*dt)-d)/(u-d) # martiangle (risk-neutral probability)\n",
        "  \n",
        "  \n",
        "  # Array Initialization for Index Levels\n",
        "  mu = np.arange(M + 1)\n",
        "  mu = np.resize(mu, (M + 1, M + 1))\n",
        "  md = np.transpose(mu)\n",
        "  mu = u ** (mu - md)\n",
        "  md = d ** md\n",
        "  S = S0 * mu * md\n",
        "\n",
        "  # Valuation by Risk-Neutral Discounting\n",
        "  \n",
        "  if call:\n",
        "    pv = np.maximum(S-K, 0) # present value array initialized with inner values\n",
        "  else: \n",
        "    pv = np.maximum (K-S, 0) # present value array initialized with inner values\n",
        "  z = 0\n",
        "  for i in np.arange(M - 1, -1, -1): # backwards induction\n",
        "    pv[0:M - z, i] = (q * pv[0:M - z, i + 1] + (1 - q) * pv[1:M - z + 1, i + 1]) * df\n",
        "    z += 1\n",
        "  Vo = pv[0,0]\n",
        "  return Vo\n",
        "\n",
        "\"\"\"\n",
        "NOTE: please come back to it again\n",
        "\n",
        "\"\"\""
      ],
      "execution_count": 0,
      "outputs": []
    },
    {
      "cell_type": "code",
      "metadata": {
        "id": "cADYHDPm5-eC",
        "colab_type": "code",
        "outputId": "3561b55e-ffba-45bd-f080-795458666427",
        "colab": {
          "base_uri": "https://localhost:8080/",
          "height": 52
        }
      },
      "source": [
        "print(\" Value of Europen Call option is ${0:.2f}\".format(CRR_value_option(105,100,1,0.05,.25,call=True)))\n",
        "print(\" Value of Europen Put option is ${0:.2f}\".format(CRR_value_option(105,100,1,0.05,.25,call=False)))"
      ],
      "execution_count": 0,
      "outputs": [
        {
          "output_type": "stream",
          "text": [
            " Value of Europen Call option is $15.65\n",
            " Value of Europen Put option is $5.78\n"
          ],
          "name": "stdout"
        }
      ]
    },
    {
      "cell_type": "code",
      "metadata": {
        "id": "TRfiuQRX6CG1",
        "colab_type": "code",
        "colab": {}
      },
      "source": [
        "# leaving out FFT for now"
      ],
      "execution_count": 0,
      "outputs": []
    },
    {
      "cell_type": "code",
      "metadata": {
        "id": "T0GTUna46DIb",
        "colab_type": "code",
        "colab": {}
      },
      "source": [
        "# using monte carlo to option call/put option value\n",
        "\n",
        "\n",
        "def monte_carlo_option(So,K,T,r,sigma,paths=1000000,call=True):\n",
        "  \n",
        "  \"\"\"\n",
        "  simple monte carlo implementation to value call/put options\n",
        "  \n",
        "  Additionally, new paramater:\n",
        "  paths : no. of paths to be considered\n",
        "  \n",
        "  Output:\n",
        "  Vo: value of option i.e. call if call=True\n",
        "  or, put call=False\n",
        "  \n",
        "  \"\"\"\n",
        "  import numpy as np\n",
        "  z = np.random.standard_normal(paths) # this is the Z_t i.e. uncertanity used part of the last term\n",
        "  df = np.exp(-r*T) # continously compunded discount factor\n",
        "  \n",
        "  # final simulated stock price based discrete form of stock price \n",
        "  S = np.array([So*np.exp((r-.5*sigma**2)*T+(sigma*np.sqrt(T)*z_t)) for z_t in z] )\n",
        "  if call:\n",
        "    payoff = np.maximum(S-K,0)\n",
        "  else:\n",
        "    payoff = np.maximum(K-S,0)\n",
        "  Vo = df*np.sum(payoff)/paths # we are discounting back the average payoff that will be received at maturity\n",
        "  # why not other way around? See Cauchy inequality\n",
        "  \n",
        "  return Vo"
      ],
      "execution_count": 0,
      "outputs": []
    },
    {
      "cell_type": "code",
      "metadata": {
        "id": "133i831N6L7J",
        "colab_type": "code",
        "outputId": "03783c52-7b84-497c-fa2a-1f74296fb50f",
        "colab": {
          "base_uri": "https://localhost:8080/",
          "height": 70
        }
      },
      "source": [
        "print('OPTION VALUATION USING MONTE CARLO TECHNIQUES')\n",
        "print(\" Value of Europen Call option is ${0:.2f}\".format(monte_carlo_option(105,100,1,0.05,.25,paths=10000,call=True)))\n",
        "print(\" Value of Europen Put option is ${0:.2f}\".format(monte_carlo_option(105,100,1,0.05,.25,paths=10000,call=False)))"
      ],
      "execution_count": 0,
      "outputs": [
        {
          "output_type": "stream",
          "text": [
            "OPTION VALUATION USING MONTE CARLO TECHNIQUES\n",
            " Value of Europen Call option is $15.74\n",
            " Value of Europen Put option is $5.64\n"
          ],
          "name": "stdout"
        }
      ]
    },
    {
      "cell_type": "code",
      "metadata": {
        "id": "QyhTQeX96WBU",
        "colab_type": "code",
        "colab": {}
      },
      "source": [
        "# Interesting observation quite close\n",
        "# Yet not there, but a great start indeed on this learning curve"
      ],
      "execution_count": 0,
      "outputs": []
    },
    {
      "cell_type": "code",
      "metadata": {
        "id": "jSp5bvWn6Y-L",
        "colab_type": "code",
        "colab": {}
      },
      "source": [
        ""
      ],
      "execution_count": 0,
      "outputs": []
    },
    {
      "cell_type": "code",
      "metadata": {
        "id": "Eepb2ri_7BnY",
        "colab_type": "code",
        "colab": {}
      },
      "source": [
        ""
      ],
      "execution_count": 0,
      "outputs": []
    },
    {
      "cell_type": "code",
      "metadata": {
        "id": "vk570WUq7CzU",
        "colab_type": "code",
        "colab": {}
      },
      "source": [
        ""
      ],
      "execution_count": 0,
      "outputs": []
    },
    {
      "cell_type": "code",
      "metadata": {
        "id": "hh7qpryx7JXp",
        "colab_type": "code",
        "colab": {}
      },
      "source": [
        ""
      ],
      "execution_count": 0,
      "outputs": []
    },
    {
      "cell_type": "code",
      "metadata": {
        "id": "gWC9SyD87J_A",
        "colab_type": "code",
        "colab": {}
      },
      "source": [
        ""
      ],
      "execution_count": 0,
      "outputs": []
    },
    {
      "cell_type": "code",
      "metadata": {
        "id": "LLMgDaHM9VgD",
        "colab_type": "code",
        "colab": {}
      },
      "source": [
        ""
      ],
      "execution_count": 0,
      "outputs": []
    }
  ]
}