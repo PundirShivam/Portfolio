{
 "cells": [
  {
   "cell_type": "markdown",
   "metadata": {},
   "source": [
    "# Differentation by first principle\n",
    "\n",
    "f'(x) = lim h -->0 ( f(x+h) - f(x))/(h) "
   ]
  },
  {
   "cell_type": "code",
   "execution_count": 34,
   "metadata": {},
   "outputs": [],
   "source": [
    "def differentation(func,x):\n",
    "    # first principle\n",
    "    h=0.0000001\n",
    "    f = func(x)\n",
    "    fh = func(x+h)\n",
    "    dif_1 = ( fh-f)/h\n",
    "    \n",
    "    # two point formulae\n",
    "    diff_2 = (func(x+h)-func(x-h))/(2*h)\n",
    "    \n",
    "    return (dif_1+diff_2)/2 "
   ]
  },
  {
   "cell_type": "code",
   "execution_count": 46,
   "metadata": {},
   "outputs": [],
   "source": [
    "def function(x):\n",
    "    import numpy as np\n",
    "    func = np.sin(x)\n",
    "    return func"
   ]
  },
  {
   "cell_type": "code",
   "execution_count": 47,
   "metadata": {},
   "outputs": [
    {
     "data": {
      "text/plain": [
       "0.5403022848571304"
      ]
     },
     "execution_count": 47,
     "metadata": {},
     "output_type": "execute_result"
    }
   ],
   "source": [
    "differentation(function,1)"
   ]
  },
  {
   "cell_type": "markdown",
   "metadata": {},
   "source": [
    "# Checking \n",
    "\n",
    "Lets try to see if the differentation of a continuous function like sine \n",
    "can be calculated with such a basic function or not."
   ]
  },
  {
   "cell_type": "code",
   "execution_count": 72,
   "metadata": {},
   "outputs": [
    {
     "data": {
      "text/plain": [
       "<matplotlib.legend.Legend at 0x1f337a13eb8>"
      ]
     },
     "execution_count": 72,
     "metadata": {},
     "output_type": "execute_result"
    },
    {
     "data": {
      "image/png": "[encoded data removed]",
      "text/plain": [
       "<Figure size 432x288 with 1 Axes>"
      ]
     },
     "metadata": {
      "needs_background": "light"
     },
     "output_type": "display_data"
    }
   ],
   "source": [
    "import numpy as np\n",
    "import matplotlib.pyplot as plt\n",
    "x = np.linspace(-np.pi*2,np.pi*2,100)\n",
    "y = np.sin(x)\n",
    "yd =  [differentation(np.sin,i) for i in x ]\n",
    "plt.plot(y,label='sine')\n",
    "plt.plot(yd,label='cosine')\n",
    "plt.legend()"
   ]
  },
  {
   "cell_type": "markdown",
   "metadata": {},
   "source": [
    "# Practical Package\n",
    "https://github.com/maroba/findiff"
   ]
  },
  {
   "cell_type": "markdown",
   "metadata": {},
   "source": [
    "# Itegration by Summation"
   ]
  },
  {
   "cell_type": "code",
   "execution_count": 87,
   "metadata": {},
   "outputs": [],
   "source": [
    "def integration(func,l,h,N=10000):\n",
    "    \"\"\"\n",
    "    func: Univariate function ex. f(x) = x**2\n",
    "    l : lowest limit of integration\n",
    "    h : upper limit of integration\n",
    "    N : No. of summation \n",
    "    \"\"\"\n",
    "    width = (h-l)/N\n",
    "    result = 0\n",
    "    while l <= h :\n",
    "        result+=func(l+width/2)\n",
    "        l+=width\n",
    "    return result*width"
   ]
  },
  {
   "cell_type": "code",
   "execution_count": 88,
   "metadata": {},
   "outputs": [
    {
     "data": {
      "text/plain": [
       "1.5303230092208358"
      ]
     },
     "execution_count": 88,
     "metadata": {},
     "output_type": "execute_result"
    }
   ],
   "source": [
    "integration(function,1,3)"
   ]
  },
  {
   "cell_type": "markdown",
   "metadata": {},
   "source": [
    "# Check for integration function\n",
    "\n",
    "Here, we check the integration for functions including 1,x2,x3,sin."
   ]
  },
  {
   "cell_type": "code",
   "execution_count": 90,
   "metadata": {},
   "outputs": [
    {
     "data": {
      "text/plain": [
       "2.0002"
      ]
     },
     "execution_count": 90,
     "metadata": {},
     "output_type": "execute_result"
    }
   ],
   "source": [
    "# Integration of 1 in [1,3]\n",
    "integration(lambda x:1,1,3)"
   ]
  },
  {
   "cell_type": "code",
   "execution_count": 91,
   "metadata": {},
   "outputs": [
    {
     "data": {
      "text/plain": [
       "8.66846678000098"
      ]
     },
     "execution_count": 91,
     "metadata": {},
     "output_type": "execute_result"
    }
   ],
   "source": [
    "# Integration of x**2 in [1,3]\n",
    "integration(lambda x:x**2,1,3)"
   ]
  },
  {
   "cell_type": "code",
   "execution_count": 92,
   "metadata": {},
   "outputs": [
    {
     "data": {
      "text/plain": [
       "20.00540050001426"
      ]
     },
     "execution_count": 92,
     "metadata": {},
     "output_type": "execute_result"
    }
   ],
   "source": [
    "# Integration of x**3 in [1,3]\n",
    "integration(lambda x:x**3,1,3)"
   ]
  },
  {
   "cell_type": "code",
   "execution_count": 93,
   "metadata": {},
   "outputs": [
    {
     "data": {
      "text/plain": [
       "20.0"
      ]
     },
     "execution_count": 93,
     "metadata": {},
     "output_type": "execute_result"
    }
   ],
   "source": [
    "(3**4-1**4)/4"
   ]
  },
  {
   "cell_type": "code",
   "execution_count": null,
   "metadata": {},
   "outputs": [],
   "source": []
  }
 ],
 "metadata": {
  "kernelspec": {
   "display_name": "Python 3",
   "language": "python",
   "name": "python3"
  },
  "language_info": {
   "codemirror_mode": {
    "name": "ipython",
    "version": 3
   },
   "file_extension": ".py",
   "mimetype": "text/x-python",
   "name": "python",
   "nbconvert_exporter": "python",
   "pygments_lexer": "ipython3",
   "version": "3.6.8"
  }
 },
 "nbformat": 4,
 "nbformat_minor": 4
}
