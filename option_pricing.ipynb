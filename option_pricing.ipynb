{
 "cells": [
  {
   "cell_type": "code",
   "execution_count": null,
   "metadata": {},
   "outputs": [],
   "source": [
    "'''\n",
    "A set of basic tools to calculate \n",
    "vanilla european option prices \n",
    "and associated first order greeks.\n",
    "\n",
    "@author: spundir\n",
    "@date  : 03 July 2020\n",
    "@version : Python 3.6+\n",
    "\n",
    "sources:\n",
    "1. https://www.macroption.com/black-scholes-formula/\n",
    "'''"
   ]
  },
  {
   "cell_type": "code",
   "execution_count": 6,
   "metadata": {},
   "outputs": [],
   "source": [
    "import numpy as np\n",
    "from scipy.stats import norm"
   ]
  },
  {
   "cell_type": "code",
   "execution_count": 38,
   "metadata": {},
   "outputs": [],
   "source": [
    "def european_option(spot:np.array,strike:np.array,expiry:np.array,\n",
    "               rate:np.array,ivol:np.array,div:np.array):\n",
    "    d1 = (np.log(spot/strike) + expiry*(rate - div + np.power(ivol,2)/2))/(ivol*np.sqrt(expiry))\n",
    "    d2 = d1 - ivol*np.sqrt(expiry)\n",
    "    call = spot * np.exp(-div*expiry)*norm.cdf(d1) - strike*np.exp(-rate*expiry)*norm.cdf(d2)\n",
    "    put = strike*np.exp(-rate*expiry)*norm.cdf(-d2) - spot*np.exp(-div*expiry)*norm.cdf(-d1)\n",
    "    return call,put\n"
   ]
  },
  {
   "cell_type": "code",
   "execution_count": 40,
   "metadata": {},
   "outputs": [],
   "source": [
    "call,put = european_option(100,95,.25,.1,.5,0)"
   ]
  },
  {
   "cell_type": "code",
   "execution_count": 44,
   "metadata": {},
   "outputs": [],
   "source": [
    "def european_delta(spot:np.array,strike:np.array,expiry:np.array,\n",
    "               rate:np.array,ivol:np.array,div:np.array):\n",
    "    d1 = (np.log(spot/strike) + expiry*(rate - div + np.power(ivol,2)/2))/(ivol*np.sqrt(expiry))\n",
    "    call = np.exp(-div*expiry)*norm.cdf(d1)\n",
    "    put = call - np.exp(-div*expiry)\n",
    "    return call,put"
   ]
  },
  {
   "cell_type": "code",
   "execution_count": 49,
   "metadata": {},
   "outputs": [],
   "source": [
    "def european_gamma(spot:np.array,strike:np.array,expiry:np.array,\n",
    "               rate:np.array,ivol:np.array,div:np.array):\n",
    "    d1 = (np.log(spot/strike) + expiry*(rate - div + np.power(ivol,2)/2))/(ivol*np.sqrt(expiry))\n",
    "    gamma = (np.exp(-div*expiry)/(spot*ivol*np.sqrt(expiry)))*norm.pdf(d1)\n",
    "    return gamma"
   ]
  },
  {
   "cell_type": "code",
   "execution_count": 53,
   "metadata": {},
   "outputs": [],
   "source": [
    "def european_theta(spot:np.array,strike:np.array,expiry:np.array,\n",
    "               rate:np.array,ivol:np.array,div:np.array):\n",
    "    d1 = (np.log(spot/strike) + expiry*(rate - div + np.power(ivol,2)/2))/(ivol*np.sqrt(expiry))\n",
    "    d2 = d1 - ivol*np.sqrt(expiry)\n",
    "    t1 = (spot*ivol*np.exp(-div*expiry)/(2*np.sqrt(expiry)))*norm.pdf(d1)\n",
    "    t2 = rate*strike*np.exp(-rate*expiry)*norm.cdf(d2)\n",
    "    t3 = div*spot*np.exp(-div*expiry)*norm.cdf(d1)\n",
    "    call = (-t1 -t2 + t3)/expiry\n",
    "    put = (-t1 +t2 + t3)/expiry\n",
    "    return call,put"
   ]
  },
  {
   "cell_type": "code",
   "execution_count": 61,
   "metadata": {},
   "outputs": [],
   "source": [
    "def european_vega(spot:np.array,strike:np.array,expiry:np.array,\n",
    "               rate:np.array,ivol:np.array,div:np.array):\n",
    "    d1 = (np.log(spot/strike) + expiry*(rate - div + np.power(ivol,2)/2))/(ivol*np.sqrt(expiry))\n",
    "    d2 = d1 - ivol*np.sqrt(expiry)\n",
    "    vega = spot * np.exp(-div*expiry)*np.sqrt(expiry)*norm.pdf(d2)/100\n",
    "    return vega    "
   ]
  },
  {
   "cell_type": "code",
   "execution_count": 63,
   "metadata": {},
   "outputs": [],
   "source": [
    "def european_rho(spot:np.array,strike:np.array,expiry:np.array,\n",
    "               rate:np.array,ivol:np.array,div:np.array):\n",
    "    d1   =   (np.log(spot/strike) + expiry*(rate - div + np.power(ivol,2)/2))/(ivol*np.sqrt(expiry))\n",
    "    d2   =   d1 - ivol*np.sqrt(expiry)\n",
    "    call =   strike*expiry*np.exp(-rate*expiry)*norm.cdf(d2)/100\n",
    "    put  = - strike*expiry*np.exp(-rate*expiry)*norm.cdf(-d2)/100\n",
    "    return call,put"
   ]
  },
  {
   "cell_type": "code",
   "execution_count": 64,
   "metadata": {},
   "outputs": [
    {
     "data": {
      "text/plain": [
       "(0.6664651640893666, -0.3335348359106334)"
      ]
     },
     "execution_count": 64,
     "metadata": {},
     "output_type": "execute_result"
    }
   ],
   "source": [
    "european_delta(100,95,.25,.1,.5,0)"
   ]
  },
  {
   "cell_type": "code",
   "execution_count": 65,
   "metadata": {},
   "outputs": [
    {
     "data": {
      "text/plain": [
       "(0.1323781091758213, -0.0992579949309077)"
      ]
     },
     "execution_count": 65,
     "metadata": {},
     "output_type": "execute_result"
    }
   ],
   "source": [
    "european_rho(100,95,.25,.1,.5,0)"
   ]
  },
  {
   "cell_type": "code",
   "execution_count": null,
   "metadata": {},
   "outputs": [],
   "source": []
  }
 ],
 "metadata": {
  "kernelspec": {
   "display_name": "Python 3",
   "language": "python",
   "name": "python3"
  },
  "language_info": {
   "codemirror_mode": {
    "name": "ipython",
    "version": 3
   },
   "file_extension": ".py",
   "mimetype": "text/x-python",
   "name": "python",
   "nbconvert_exporter": "python",
   "pygments_lexer": "ipython3",
   "version": "3.6.8"
  }
 },
 "nbformat": 4,
 "nbformat_minor": 4
}
